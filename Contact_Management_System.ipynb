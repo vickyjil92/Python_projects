{
  "nbformat": 4,
  "nbformat_minor": 0,
  "metadata": {
    "colab": {
      "provenance": []
    },
    "kernelspec": {
      "name": "python3",
      "display_name": "Python 3"
    },
    "language_info": {
      "name": "python"
    }
  },
  "cells": [
    {
      "cell_type": "code",
      "execution_count": 1,
      "metadata": {
        "id": "AZ6v5a1fWS5_"
      },
      "outputs": [],
      "source": [
        "#contact_mgmt_system\n",
        "#Menu 1.Add Contact 2.Delete Contact 3.Edit Contact 4.View all Contact 5.Search Contact\n",
        "\n",
        "#Functional code\n",
        "\n",
        "# Function to add a contact\n",
        "def add_contact(contact_dict, name, phone, email):\n",
        "    if name in contact_dict:\n",
        "        print(f\"Contact with name {name} already exists.\")\n",
        "    else:\n",
        "        contact_dict[name] = {'phone': phone, 'email': email}\n",
        "        print(f\"Contact for {name} added successfully.\")\n",
        "\n",
        "# Function to view a contact's details\n",
        "def view_contact(contact_dict, name):\n",
        "    contact = contact_dict.get(name)\n",
        "    if contact:\n",
        "        print(f\"Details for {name}:\")\n",
        "        print(f\"Phone: {contact['phone']}\")\n",
        "        print(f\"Email: {contact['email']}\")\n",
        "    else:\n",
        "        print(f\"Contact for {name} not found.\")\n",
        "\n",
        "# Function to list all contacts\n",
        "def list_contacts(contact_dict):\n",
        "    if contact_dict:\n",
        "        print(\"Contacts List:\")\n",
        "        for name, details in contact_dict.items():\n",
        "            print(f\"{name}: Phone = {details['phone']}, Email = {details['email']}\")\n",
        "    else:\n",
        "        print(\"No contacts found.\")\n",
        "\n",
        "def menu():\n",
        "  print(\"--------------------\")\n",
        "  print(\"Contact Management System\")\n",
        "  print(\"--------------------\")\n",
        "  print(\"1.Add Contact\\n2.View Contact\\n3.Update Contact\\n4.Delete Contact\\n5. List All Contacts\\n0.Exit\\n\")\n"
      ]
    },
    {
      "cell_type": "code",
      "source": [
        "#MAIN PROG\n",
        "\n",
        "contactsList={} # Initialize an empty dictionary to store contacts\n",
        "while True:\n",
        "  menu()\n",
        "  choice=int(input(\"Enter your choice (0-5): \"))\n",
        "  if choice==0: #Exit\n",
        "    print(\"Exiting....bye\")\n",
        "    break\n",
        "  elif choice==1: #Add Contact\n",
        "    name=input(\"Enter Name:\")\n",
        "    phone_no=input(\"Enter phone_no:\")\n",
        "    email = input(\"Enter email:\")\n",
        "    add_contact(contactsList,name,phone_no,email)\n",
        "  elif choice==2: #Edit Contact\n",
        "    name = input(\"Enter contact name to view: \")\n",
        "    view_contact(contactsList, name)\n",
        "  elif choice==3: #Delete Contact\n",
        "    pass\n",
        "  elif choice==4:\n",
        "   pass\n",
        "  elif choice==5:  #List all Contact\n",
        "    list_contacts(contactsList)\n",
        "  else: #default for error handling\n",
        "    print(\"Wrong option selected\")"
      ],
      "metadata": {
        "colab": {
          "base_uri": "https://localhost:8080/"
        },
        "id": "FV2yqdmoYVfe",
        "outputId": "87dcf75e-7aaf-4e7f-d9d4-6f877326b198"
      },
      "execution_count": 2,
      "outputs": [
        {
          "output_type": "stream",
          "name": "stdout",
          "text": [
            "--------------------\n",
            "Contact Management System\n",
            "--------------------\n",
            "1.Add Contact\n",
            "2.View Contact\n",
            "3.Update Contact\n",
            "4.Delete Contact\n",
            "5. List All Contacts\n",
            "0.Exit\n",
            "\n",
            "Enter your choice (0-5): 1\n",
            "Enter Name:vishal\n",
            "Enter phone_no:8850088590\n",
            "Enter email:vishal.joshi1240@gmail.com\n",
            "Contact for vishal added successfully.\n",
            "--------------------\n",
            "Contact Management System\n",
            "--------------------\n",
            "1.Add Contact\n",
            "2.View Contact\n",
            "3.Update Contact\n",
            "4.Delete Contact\n",
            "5. List All Contacts\n",
            "0.Exit\n",
            "\n",
            "Enter your choice (0-5): 2\n",
            "Enter contact name to view: vishal\n",
            "Details for vishal:\n",
            "Phone: 8850088590\n",
            "Email: vishal.joshi1240@gmail.com\n",
            "--------------------\n",
            "Contact Management System\n",
            "--------------------\n",
            "1.Add Contact\n",
            "2.View Contact\n",
            "3.Update Contact\n",
            "4.Delete Contact\n",
            "5. List All Contacts\n",
            "0.Exit\n",
            "\n",
            "Enter your choice (0-5): 5\n",
            "Contacts List:\n",
            "vishal: Phone = 8850088590, Email = vishal.joshi1240@gmail.com\n",
            "--------------------\n",
            "Contact Management System\n",
            "--------------------\n",
            "1.Add Contact\n",
            "2.View Contact\n",
            "3.Update Contact\n",
            "4.Delete Contact\n",
            "5. List All Contacts\n",
            "0.Exit\n",
            "\n",
            "Enter your choice (0-5): 0\n",
            "Exiting....bye\n"
          ]
        }
      ]
    }
  ]
}